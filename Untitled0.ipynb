{
  "nbformat": 4,
  "nbformat_minor": 0,
  "metadata": {
    "colab": {
      "provenance": [],
      "authorship_tag": "ABX9TyND9EryOoLAZqukR83/aQL1",
      "include_colab_link": true
    },
    "kernelspec": {
      "name": "python3",
      "display_name": "Python 3"
    },
    "language_info": {
      "name": "python"
    }
  },
  "cells": [
    {
      "cell_type": "markdown",
      "metadata": {
        "id": "view-in-github",
        "colab_type": "text"
      },
      "source": [
        "<a href=\"https://colab.research.google.com/github/priyanshi2908/minipro1/blob/main/Untitled0.ipynb\" target=\"_parent\"><img src=\"https://colab.research.google.com/assets/colab-badge.svg\" alt=\"Open In Colab\"/></a>"
      ]
    },
    {
      "cell_type": "code",
      "execution_count": null,
      "metadata": {
        "id": "6UpjTJ2ruEm8"
      },
      "outputs": [],
      "source": []
    },
    {
      "cell_type": "markdown",
      "source": [
        "Assignment 1"
      ],
      "metadata": {
        "id": "ZZbbDBJTuFjK"
      }
    },
    {
      "cell_type": "code",
      "source": [
        "L=[11,12,13,14]\n",
        "print(L)\n",
        "L.append(50)\n",
        "L.append(60)\n",
        "print(L)\n",
        "del L[0]\n",
        "del L[1]\n",
        "print(L)\n",
        "L.sort()\n",
        "print(L)\n",
        "L.sort(reverse=True)\n",
        "print(L)\n",
        "if (13 in L)==True:\n",
        "  print(\"Yes\")\n",
        "else:\n",
        "  print(\"No\")\n",
        "print (len(L))\n",
        "s=0\n",
        "for i in range(0,len(L)):\n",
        "  if (L[i]%2==0):\n",
        "    s=s+L[i]\n",
        "  else:\n",
        "    s=s\n",
        "\n",
        "print(s)\n",
        "s=0\n",
        "for i in range(0,len(L)):\n",
        "  if (L[i]%2!=0):\n",
        "    s=s+L[i]\n",
        "  else:\n",
        "    s=s\n",
        "\n",
        "print(s)\n",
        "\n",
        "L=[11,12,13,14]\n",
        "f=0\n",
        "s=0\n",
        "for i in range(0,len(L)):\n",
        "  for j in range(2,L[i]//2+1):\n",
        "    if L[i]%j == 0:\n",
        "      f=1\n",
        "      break\n",
        "\n",
        "    if f==0:\n",
        "      s=s+L[i]\n",
        "    else:\n",
        "      s=s\n",
        "\n",
        "print(s)\n",
        "\n",
        "L.clear()\n",
        "print(L)\n",
        "del L\n",
        "\n",
        "\n"
      ],
      "metadata": {
        "colab": {
          "base_uri": "https://localhost:8080/"
        },
        "id": "xFaDY3LcuLsk",
        "outputId": "290633ea-1c8e-449e-b0de-5a82e68e1eb7"
      },
      "execution_count": null,
      "outputs": [
        {
          "output_type": "stream",
          "name": "stdout",
          "text": [
            "[11, 12, 13, 14]\n",
            "[11, 12, 13, 14, 50, 60]\n",
            "[12, 14, 50, 60]\n",
            "[12, 14, 50, 60]\n",
            "[60, 50, 14, 12]\n",
            "No\n",
            "4\n",
            "136\n",
            "0\n",
            "44\n",
            "[]\n"
          ]
        }
      ]
    },
    {
      "cell_type": "code",
      "source": [
        "D={1:5.6,2:7.8,3:6.6,4:8.7,5:7.7}\n",
        "D[8]=8.8\n",
        "print(D)\n",
        "\n",
        "del D[2]\n",
        "print(D)\n",
        "if (6 in D)== True:\n",
        "  print(\"Yes\")\n",
        "else:\n",
        "  print(\"No\")\n",
        "print(len(D))\n",
        "\n",
        "s=0\n",
        "for i in D:\n",
        "  s=s+D[i]\n",
        "\n",
        "print(s)\n",
        "D[3]=7.1\n",
        "print(D)\n",
        "D.clear()\n",
        "print(D)"
      ],
      "metadata": {
        "colab": {
          "base_uri": "https://localhost:8080/"
        },
        "id": "Vvr1OpTC1fg1",
        "outputId": "7d805101-8d1a-4c0f-bcf4-3c5839c64462"
      },
      "execution_count": null,
      "outputs": [
        {
          "output_type": "stream",
          "name": "stdout",
          "text": [
            "{1: 5.6, 2: 7.8, 3: 6.6, 4: 8.7, 5: 7.7, 8: 8.8}\n",
            "{1: 5.6, 3: 6.6, 4: 8.7, 5: 7.7, 8: 8.8}\n",
            "No\n",
            "5\n",
            "37.4\n",
            "{1: 5.6, 3: 7.1, 4: 8.7, 5: 7.7, 8: 8.8}\n",
            "{}\n"
          ]
        }
      ]
    },
    {
      "cell_type": "code",
      "source": [
        "s1=set([10,20,30,40,50,60])\n",
        "s2=set([40,50,60,70,80,90])\n",
        "s1.add(55)\n",
        "s1.add(66)\n",
        "print(s1)\n",
        "s1.remove(30)\n",
        "s1.remove(10)\n",
        "print(s1)\n",
        "if (40 in s1)==True:\n",
        "  print(\"Yes\")\n",
        "else:\n",
        "  print(\"No\")\n",
        "print(s1.union(s2))\n",
        "print(s1.intersection(s2))\n",
        "print(s1.difference(s2))"
      ],
      "metadata": {
        "colab": {
          "base_uri": "https://localhost:8080/"
        },
        "id": "9ZEFaVoB4OPL",
        "outputId": "66e19f1e-88fc-49c6-afcd-1636a33e33d1"
      },
      "execution_count": null,
      "outputs": [
        {
          "output_type": "stream",
          "name": "stdout",
          "text": [
            "{66, 40, 10, 50, 20, 55, 60, 30}\n",
            "{66, 40, 50, 20, 55, 60}\n",
            "Yes\n",
            "{66, 70, 40, 80, 50, 20, 55, 90, 60}\n",
            "{40, 50, 60}\n",
            "{66, 20, 55}\n"
          ]
        }
      ]
    },
    {
      "cell_type": "code",
      "source": [
        "import random as r\n",
        "import string as s\n",
        "for i in range(1,101):\n",
        "  j=r.randint(6,8)\n",
        "  passw=r.sample(s.ascii_letters,j)\n",
        "\n",
        "  print(p1)"
      ],
      "metadata": {
        "colab": {
          "base_uri": "https://localhost:8080/"
        },
        "id": "3YvdGRuJUbgi",
        "outputId": "a8665157-3c63-41e8-a888-272212675b81"
      },
      "execution_count": null,
      "outputs": [
        {
          "output_type": "stream",
          "name": "stdout",
          "text": [
            "WdZuVneP\n",
            "WdZuVneP\n",
            "WdZuVneP\n",
            "WdZuVneP\n",
            "WdZuVneP\n",
            "WdZuVneP\n",
            "WdZuVneP\n",
            "WdZuVneP\n",
            "WdZuVneP\n",
            "WdZuVneP\n",
            "WdZuVneP\n",
            "WdZuVneP\n",
            "WdZuVneP\n",
            "WdZuVneP\n",
            "WdZuVneP\n",
            "WdZuVneP\n",
            "WdZuVneP\n",
            "WdZuVneP\n",
            "WdZuVneP\n",
            "WdZuVneP\n",
            "WdZuVneP\n",
            "WdZuVneP\n",
            "WdZuVneP\n",
            "WdZuVneP\n",
            "WdZuVneP\n",
            "WdZuVneP\n",
            "WdZuVneP\n",
            "WdZuVneP\n",
            "WdZuVneP\n",
            "WdZuVneP\n",
            "WdZuVneP\n",
            "WdZuVneP\n",
            "WdZuVneP\n",
            "WdZuVneP\n",
            "WdZuVneP\n",
            "WdZuVneP\n",
            "WdZuVneP\n",
            "WdZuVneP\n",
            "WdZuVneP\n",
            "WdZuVneP\n",
            "WdZuVneP\n",
            "WdZuVneP\n",
            "WdZuVneP\n",
            "WdZuVneP\n",
            "WdZuVneP\n",
            "WdZuVneP\n",
            "WdZuVneP\n",
            "WdZuVneP\n",
            "WdZuVneP\n",
            "WdZuVneP\n",
            "WdZuVneP\n",
            "WdZuVneP\n",
            "WdZuVneP\n",
            "WdZuVneP\n",
            "WdZuVneP\n",
            "WdZuVneP\n",
            "WdZuVneP\n",
            "WdZuVneP\n",
            "WdZuVneP\n",
            "WdZuVneP\n",
            "WdZuVneP\n",
            "WdZuVneP\n",
            "WdZuVneP\n",
            "WdZuVneP\n",
            "WdZuVneP\n",
            "WdZuVneP\n",
            "WdZuVneP\n",
            "WdZuVneP\n",
            "WdZuVneP\n",
            "WdZuVneP\n",
            "WdZuVneP\n",
            "WdZuVneP\n",
            "WdZuVneP\n",
            "WdZuVneP\n",
            "WdZuVneP\n",
            "WdZuVneP\n",
            "WdZuVneP\n",
            "WdZuVneP\n",
            "WdZuVneP\n",
            "WdZuVneP\n",
            "WdZuVneP\n",
            "WdZuVneP\n",
            "WdZuVneP\n",
            "WdZuVneP\n",
            "WdZuVneP\n",
            "WdZuVneP\n",
            "WdZuVneP\n",
            "WdZuVneP\n",
            "WdZuVneP\n",
            "WdZuVneP\n",
            "WdZuVneP\n",
            "WdZuVneP\n",
            "WdZuVneP\n",
            "WdZuVneP\n",
            "WdZuVneP\n",
            "WdZuVneP\n",
            "WdZuVneP\n",
            "WdZuVneP\n",
            "WdZuVneP\n",
            "WdZuVneP\n"
          ]
        }
      ]
    },
    {
      "cell_type": "code",
      "source": [
        "f=0\n",
        "for i in range(600,801):\n",
        "  f=0\n",
        "  for j in range(2,i//2+1):\n",
        "    if i%j == 0:\n",
        "      f=1\n",
        "      break\n",
        "\n",
        "  if f==0:\n",
        "    print(i)"
      ],
      "metadata": {
        "colab": {
          "base_uri": "https://localhost:8080/"
        },
        "id": "YOu8N073XNtB",
        "outputId": "94d087ff-1d2c-4a22-e6c1-56c22350de78"
      },
      "execution_count": null,
      "outputs": [
        {
          "output_type": "stream",
          "name": "stdout",
          "text": [
            "601\n",
            "607\n",
            "613\n",
            "617\n",
            "619\n",
            "631\n",
            "641\n",
            "643\n",
            "647\n",
            "653\n",
            "659\n",
            "661\n",
            "673\n",
            "677\n",
            "683\n",
            "691\n",
            "701\n",
            "709\n",
            "719\n",
            "727\n",
            "733\n",
            "739\n",
            "743\n",
            "751\n",
            "757\n",
            "761\n",
            "769\n",
            "773\n",
            "787\n",
            "797\n"
          ]
        }
      ]
    },
    {
      "cell_type": "code",
      "source": [
        "for i in range(100,1001):\n",
        "  if i%7==0 and i%9==0:\n",
        "    print(i)\n"
      ],
      "metadata": {
        "colab": {
          "base_uri": "https://localhost:8080/"
        },
        "id": "pLIcqcKTe1B8",
        "outputId": "a1cbfe09-34f2-41e5-ca4e-871c663bf43d"
      },
      "execution_count": null,
      "outputs": [
        {
          "output_type": "stream",
          "name": "stdout",
          "text": [
            "126\n",
            "189\n",
            "252\n",
            "315\n",
            "378\n",
            "441\n",
            "504\n",
            "567\n",
            "630\n",
            "693\n",
            "756\n",
            "819\n",
            "882\n",
            "945\n"
          ]
        }
      ]
    },
    {
      "cell_type": "code",
      "source": [
        "import random as r\n",
        "l1=r.sample(range(10,30),10)\n",
        "l2=r.sample(range(10,30),10)\n",
        "print(l1)\n",
        "print(l2)\n",
        "s1=set(l1)\n",
        "s2=set(l2)\n",
        "print(s1.intersection(s2))\n",
        "print(max(s1))"
      ],
      "metadata": {
        "colab": {
          "base_uri": "https://localhost:8080/"
        },
        "id": "ZME1A9c6fMkC",
        "outputId": "1abf6b55-710b-4985-d53d-1807cb9b69fe"
      },
      "execution_count": null,
      "outputs": [
        {
          "output_type": "stream",
          "name": "stdout",
          "text": [
            "[28, 29, 20, 14, 18, 24, 19, 26, 13, 22]\n",
            "[19, 26, 13, 22, 21, 27, 23, 18, 25, 28]\n",
            "{13, 18, 19, 22, 26, 28}\n",
            "29\n"
          ]
        }
      ]
    },
    {
      "cell_type": "code",
      "source": [
        "import random as r\n",
        "l1=r.sample(range(100,900),10)\n",
        "o=0\n",
        "e=0\n",
        "p=0\n",
        "print(l1)\n",
        "for i in range(0,10):\n",
        "  if l1[i]%2==0:\n",
        "    e=e+1\n",
        "\n",
        "  if l1[i]%2!=0:\n",
        "    o=o+1\n",
        "\n",
        "print(\"No.of even\",e)\n",
        "print(\"No.of odd\",o)\n",
        "for i in range(len(l1)):\n",
        "  f=0\n",
        "  for j in range(2,l1[i]//2+1):\n",
        "    if l1[i]%j==0:\n",
        "     f=1\n",
        "     break\n",
        "  if f==0:\n",
        "   print(l1[i])\n",
        "\n",
        "\n",
        "\n"
      ],
      "metadata": {
        "colab": {
          "base_uri": "https://localhost:8080/"
        },
        "id": "GbenAW39hBoz",
        "outputId": "c1e7798f-e090-438b-f4ff-2ff914688449"
      },
      "execution_count": null,
      "outputs": [
        {
          "output_type": "stream",
          "name": "stdout",
          "text": [
            "[694, 884, 185, 285, 251, 101, 246, 132, 674, 100]\n",
            "No.of even 6\n",
            "No.of odd 4\n",
            "251\n",
            "101\n"
          ]
        }
      ]
    },
    {
      "cell_type": "code",
      "source": [
        "D={1:\"One\", 2:\"Two\" , 3:\"Three\" , 4:\"Four\" , 5:\"Five\"}\n",
        "fp=open('res.txt','w')\n",
        "\n",
        "for i in D:\n",
        "  fp.write(str(i)+ \" \"+ str(D[i])+\"\\n\")\n",
        "fp.close()"
      ],
      "metadata": {
        "id": "ozxsuQ9MkV7A"
      },
      "execution_count": null,
      "outputs": []
    },
    {
      "cell_type": "code",
      "source": [
        "L={\"One\", \"Two\", \"Three\", \"Four\", \"Five\"}\n",
        "L=list(L)\n",
        "fp=open('res.txt','w')\n",
        "for i in range(len(L)):\n",
        "  fp.write(str(L[i])+ \" \" + str(len(L[i]) )+\"\\n\")\n",
        "\n",
        "fp.close()"
      ],
      "metadata": {
        "id": "_bT-XwUWnUPS"
      },
      "execution_count": null,
      "outputs": []
    },
    {
      "cell_type": "code",
      "source": [
        "import random as r\n",
        "import string as s\n",
        "fp=open('res.txt','w')\n",
        "for i in range(1,101):\n",
        "    j = r.randint(10,16)\n",
        "    fp.write(\"\".join(r.sample(s.ascii_letters,j))+\"\\n\")\n",
        "\n",
        "fp.close()\n",
        "\n"
      ],
      "metadata": {
        "id": "WCm6DyAdpx53"
      },
      "execution_count": null,
      "outputs": []
    },
    {
      "cell_type": "code",
      "source": [
        "import random as r\n",
        "import time as t\n",
        "t1=t.time()\n",
        "fp=open('res.txt','w')\n",
        "f=0\n",
        "for i in range(600,801):\n",
        "  f=0\n",
        "  for j in range(2,i//2+1):\n",
        "   if i%j == 0:\n",
        "    f=1\n",
        "    break\n",
        "  if f==0:\n",
        "   fp.write(str(i)+\"\\n\")\n",
        "t2=t.time()\n",
        "fp.write(str(t2-t1))\n",
        "fp.close()"
      ],
      "metadata": {
        "id": "VUXGWujXr_R8"
      },
      "execution_count": null,
      "outputs": []
    },
    {
      "cell_type": "code",
      "source": [
        "D={1:89,2:61,3:78,4:88,5:21}\n",
        "l=list(D.values())\n",
        "l1=list(D.keys())\n",
        "print(max(l))\n"
      ],
      "metadata": {
        "colab": {
          "base_uri": "https://localhost:8080/"
        },
        "id": "gKp3upaHkkYR",
        "outputId": "a6445967-05e8-4cfd-a541-7efbe5266cfa"
      },
      "execution_count": 7,
      "outputs": [
        {
          "output_type": "stream",
          "name": "stdout",
          "text": [
            "89\n",
            "1\n"
          ]
        }
      ]
    }
  ]
}